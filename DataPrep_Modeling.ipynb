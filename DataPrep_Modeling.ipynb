{
 "cells": [
  {
   "cell_type": "markdown",
   "metadata": {},
   "source": [
    "# Insert libraries"
   ]
  },
  {
   "cell_type": "code",
   "execution_count": 1,
   "metadata": {},
   "outputs": [],
   "source": [
    "import pandas as pd\n",
    "import numpy as np\n",
    "import matplotlib.pyplot as plt\n",
    "import seaborn as sns\n",
    "%matplotlib inline"
   ]
  },
  {
   "cell_type": "markdown",
   "metadata": {},
   "source": [
    "# Load dataset"
   ]
  },
  {
   "cell_type": "code",
   "execution_count": 2,
   "metadata": {},
   "outputs": [],
   "source": [
    "def read_data(path):\n",
    "    df = pd.read_csv(path)\n",
    "    return df\n",
    "\n",
    "data_path = 'creditcard.csv'\n",
    "data = read_data(data_path)"
   ]
  },
  {
   "cell_type": "code",
   "execution_count": 3,
   "metadata": {},
   "outputs": [],
   "source": [
    "import joblib\n",
    "\n",
    "good_features = joblib.load('good_features.pkl')\n",
    "bad_features = joblib.load('bad_features.pkl')"
   ]
  },
  {
   "cell_type": "markdown",
   "metadata": {},
   "source": [
    "# Splitting the training and test datasets"
   ]
  },
  {
   "cell_type": "code",
   "execution_count": 4,
   "metadata": {},
   "outputs": [],
   "source": [
    "# using stratified sampling instead of random sampling for the imbalanced dataset\n",
    "from sklearn.model_selection import StratifiedShuffleSplit \n",
    "split = StratifiedShuffleSplit(n_splits=1, test_size=0.2, random_state=11)\n",
    "\n",
    "for train_index, test_index in split.split(data, data['Class']):    \n",
    "    train_set = data.loc[train_index].reset_index(drop=True)    \n",
    "    test_set = data.loc[test_index].reset_index(drop=True) "
   ]
  },
  {
   "cell_type": "code",
   "execution_count": 5,
   "metadata": {},
   "outputs": [
    {
     "name": "stdout",
     "output_type": "stream",
     "text": [
      "Class ratio in the training set is 0.173\n",
      "\n",
      "Class ratio in the test set is 0.172\n"
     ]
    }
   ],
   "source": [
    "train_counts = train_set.Class.value_counts()\n",
    "ratio_train = round((train_counts[1]/train_counts.sum()*100), 3)\n",
    "\n",
    "test_counts = test_set.Class.value_counts()\n",
    "ratio_test = round((test_counts[1]/test_counts.sum()*100), 3)\n",
    "\n",
    "print('Class ratio in the training set is {}'.format(ratio_train))\n",
    "print('\\nClass ratio in the test set is {}'.format(ratio_test))"
   ]
  },
  {
   "cell_type": "markdown",
   "metadata": {},
   "source": [
    "# Feature scaling"
   ]
  },
  {
   "cell_type": "code",
   "execution_count": 6,
   "metadata": {},
   "outputs": [],
   "source": [
    "from sklearn.preprocessing import StandardScaler\n",
    "scaler = StandardScaler()\n",
    "train_features = scaler.fit_transform(train_set.iloc[:, :-1])\n",
    "test_features = scaler.transform(test_set.iloc[:, :-1])\n",
    "\n",
    "train_target = train_set.iloc[:, -1]\n",
    "test_target = test_set.iloc[:, -1]"
   ]
  },
  {
   "cell_type": "markdown",
   "metadata": {},
   "source": [
    "# Defining a function for:\n",
    "- ### Building mutiple classification models\n",
    "- ### Calculating different performance metrics of the models"
   ]
  },
  {
   "cell_type": "code",
   "execution_count": 7,
   "metadata": {},
   "outputs": [],
   "source": [
    "def classification(models, X_Train, Y_Train, X_Test, Y_Test):\n",
    "    from sklearn.metrics import accuracy_score, precision_score, recall_score, f1_score, roc_auc_score, average_precision_score\n",
    "                                \n",
    "    accuracy = {}\n",
    "    precision = {}\n",
    "    recall = {}\n",
    "    f1 = {}\n",
    "    auc_roc = {}\n",
    "    precision_recall = {}\n",
    "    metrics = pd.DataFrame()\n",
    "    for model_name, estimator in models.items():\n",
    "        print('\\nFitting {} model in progress...'.format(model_name))\n",
    "        estimator.fit(X_Train, Y_Train)\n",
    "        y_pred = estimator.predict(X_Test)\n",
    "        y_predproba = estimator.predict_proba(X_Test)\n",
    "        \n",
    "        print('Calculating metrics for {} model...'.format(model_name))\n",
    "        accuracy[model_name] = accuracy_score(Y_Test, y_pred)\n",
    "        precision[model_name] = precision_score(Y_Test, y_pred)\n",
    "        recall[model_name] = recall_score(Y_Test, y_pred)\n",
    "        f1[model_name] = f1_score(Y_Test, y_pred)\n",
    "        auc_roc[model_name] = roc_auc_score(Y_Test, y_predproba[:, 1])\n",
    "        precision_recall[model_name] = average_precision_score(Y_Test, y_predproba[:, 1])\n",
    "        \n",
    "        new_metric = pd.DataFrame({'model': [model_name],\n",
    "                                   'accuracy': [accuracy[model_name]],\n",
    "                                   'precision': [precision[model_name]],\n",
    "                                   'recall': [recall[model_name]],\n",
    "                                   'f1': [f1[model_name]],\n",
    "                                   'auc_roc': [auc_roc[model_name]],\n",
    "                                   'precision_recall': precision_recall[model_name]})\n",
    "        metrics = pd.concat([metrics, new_metric])\n",
    "        \n",
    "    return metrics"
   ]
  },
  {
   "cell_type": "code",
   "execution_count": 8,
   "metadata": {},
   "outputs": [],
   "source": [
    "from sklearn.linear_model import LogisticRegression\n",
    "from sklearn.neighbors import KNeighborsClassifier\n",
    "from sklearn.ensemble import RandomForestClassifier\n",
    "\n",
    "models = {\n",
    "            'log': LogisticRegression(solver='lbfgs', random_state=5, n_jobs=-1),\n",
    "            'knn': KNeighborsClassifier(n_neighbors=3, n_jobs=-1),\n",
    "            'random_forest': RandomForestClassifier(n_estimators=10, criterion='entropy',\n",
    "                                                    max_depth=10, max_features=10, n_jobs=-1, random_state=5),\n",
    "          }"
   ]
  },
  {
   "cell_type": "markdown",
   "metadata": {},
   "source": [
    "# 1. Using original imbalanced dataset"
   ]
  },
  {
   "cell_type": "code",
   "execution_count": 9,
   "metadata": {},
   "outputs": [
    {
     "name": "stdout",
     "output_type": "stream",
     "text": [
      "\n",
      "Fitting log model in progress...\n",
      "Calculating metrics for log model...\n",
      "\n",
      "Fitting knn model in progress...\n",
      "Calculating metrics for knn model...\n",
      "\n",
      "Fitting random_forest model in progress...\n",
      "Calculating metrics for random_forest model...\n"
     ]
    }
   ],
   "source": [
    "# modeling - original data\n",
    "original_metrics = classification(models, train_features, train_target, test_features, test_target)"
   ]
  },
  {
   "cell_type": "markdown",
   "metadata": {},
   "source": [
    "# 2. Applying oversampling technique"
   ]
  },
  {
   "cell_type": "code",
   "execution_count": 10,
   "metadata": {},
   "outputs": [],
   "source": [
    "col_names = list(train_set.drop(columns=['Class']).columns)\n",
    "train_features = pd.DataFrame(train_features, columns=col_names)\n",
    "train_target = pd.DataFrame(train_target, columns=['Class'])\n",
    "\n",
    "df_train = pd.concat([train_features, train_target], axis=1)\n",
    "\n",
    "# separate minority and majority classes\n",
    "legit = df_train[df_train.Class==0]\n",
    "fraud = df_train[df_train.Class==1]"
   ]
  },
  {
   "cell_type": "code",
   "execution_count": 11,
   "metadata": {},
   "outputs": [
    {
     "name": "stdout",
     "output_type": "stream",
     "text": [
      "\n",
      "Fitting log model in progress...\n",
      "Calculating metrics for log model...\n",
      "\n",
      "Fitting knn model in progress...\n",
      "Calculating metrics for knn model...\n",
      "\n",
      "Fitting random_forest model in progress...\n",
      "Calculating metrics for random_forest model...\n"
     ]
    }
   ],
   "source": [
    "# oversample minority class\n",
    "from sklearn.utils import resample\n",
    "fraud_oversampled = resample(fraud,\n",
    "                              replace=True, # sample with replacement\n",
    "                              n_samples=len(legit), # match number in majority class\n",
    "                              random_state=1)\n",
    "\n",
    "# combine majority and upsampled minority classes\n",
    "oversampled_data = pd.concat([legit, fraud_oversampled])\n",
    "\n",
    "train_features_over = oversampled_data.drop('Class', axis=1).values\n",
    "train_target_over = oversampled_data['Class'].values\n",
    "\n",
    "# Build models with oversampled data\n",
    "oversampled_metrics = classification(models, train_features_over, train_target_over, test_features, test_target)"
   ]
  },
  {
   "cell_type": "markdown",
   "metadata": {},
   "source": [
    "# 3. Applying undersampling technique"
   ]
  },
  {
   "cell_type": "code",
   "execution_count": 12,
   "metadata": {},
   "outputs": [
    {
     "name": "stdout",
     "output_type": "stream",
     "text": [
      "\n",
      "Fitting log model in progress...\n",
      "Calculating metrics for log model...\n",
      "\n",
      "Fitting knn model in progress...\n",
      "Calculating metrics for knn model...\n",
      "\n",
      "Fitting random_forest model in progress...\n",
      "Calculating metrics for random_forest model...\n"
     ]
    }
   ],
   "source": [
    "# Try undersampling method\n",
    "legit_undersampled = resample(legit,\n",
    "                                replace=False, # sample without replacement\n",
    "                                n_samples=len(fraud), # match number in minority class\n",
    "                                random_state=5)\n",
    "\n",
    "# combine minority and undersampled majority\n",
    "undersampled_data = pd.concat([legit_undersampled, fraud])\n",
    "\n",
    "x_train_undersample = undersampled_data.drop('Class', axis=1).values\n",
    "y_train_undersample = undersampled_data['Class'].values\n",
    "\n",
    "# Build models with undersampled data\n",
    "undersampled_metrics = classification(models, x_train_undersample, y_train_undersample, test_features, test_target)"
   ]
  },
  {
   "cell_type": "markdown",
   "metadata": {},
   "source": [
    "# 4. Using SMOTE method (oversampling)"
   ]
  },
  {
   "cell_type": "code",
   "execution_count": 13,
   "metadata": {},
   "outputs": [
    {
     "name": "stderr",
     "output_type": "stream",
     "text": [
      "Using TensorFlow backend.\n"
     ]
    },
    {
     "name": "stdout",
     "output_type": "stream",
     "text": [
      "\n",
      "Fitting log model in progress...\n",
      "Calculating metrics for log model...\n",
      "\n",
      "Fitting knn model in progress...\n",
      "Calculating metrics for knn model...\n",
      "\n",
      "Fitting random_forest model in progress...\n",
      "Calculating metrics for random_forest model...\n"
     ]
    }
   ],
   "source": [
    "# SMOTE method (oversampling)\n",
    "from imblearn.over_sampling import SMOTE\n",
    "\n",
    "sm = SMOTE(random_state=5, sampling_strategy='minority')\n",
    "\n",
    "train_features_sm, train_target_sm = sm.fit_sample(train_features, train_target)\n",
    "\n",
    "# Build models with oversampled data\n",
    "smote_metrics = classification(models, train_features_sm.values, train_target_sm.values.reshape(-1,), test_features, test_target)"
   ]
  },
  {
   "cell_type": "markdown",
   "metadata": {},
   "source": [
    "# 5. Using TomekLinks method (undersampling)"
   ]
  },
  {
   "cell_type": "code",
   "execution_count": 14,
   "metadata": {},
   "outputs": [
    {
     "name": "stdout",
     "output_type": "stream",
     "text": [
      "\n",
      "Fitting log model in progress...\n",
      "Calculating metrics for log model...\n",
      "\n",
      "Fitting knn model in progress...\n",
      "Calculating metrics for knn model...\n",
      "\n",
      "Fitting random_forest model in progress...\n",
      "Calculating metrics for random_forest model...\n"
     ]
    }
   ],
   "source": [
    "# TomekLinks method (undersampling)\n",
    "from imblearn.under_sampling import TomekLinks\n",
    "tl = TomekLinks(sampling_strategy='auto', n_jobs=-1)\n",
    "train_features_tl, train_target_tl = tl.fit_resample(train_features, train_target)\n",
    "\n",
    "# Build models with undersampled data\n",
    "tomek_metrics = classification(models, train_features_tl.values, train_target_tl.values.reshape(-1,), test_features, test_target)"
   ]
  },
  {
   "cell_type": "markdown",
   "metadata": {},
   "source": [
    "# Comparing all models\n",
    "#### The results are sorted based on F1 score.Because it is the best metric (among the listed metrics) for evaluating classification models which have highly imbalanced distribution of classes."
   ]
  },
  {
   "cell_type": "code",
   "execution_count": 15,
   "metadata": {},
   "outputs": [],
   "source": [
    "# comparing different models\n",
    "Metrics = pd.concat([original_metrics, oversampled_metrics, undersampled_metrics, smote_metrics, tomek_metrics])"
   ]
  },
  {
   "cell_type": "code",
   "execution_count": 16,
   "metadata": {},
   "outputs": [
    {
     "data": {
      "text/html": [
       "<div>\n",
       "<style scoped>\n",
       "    .dataframe tbody tr th:only-of-type {\n",
       "        vertical-align: middle;\n",
       "    }\n",
       "\n",
       "    .dataframe tbody tr th {\n",
       "        vertical-align: top;\n",
       "    }\n",
       "\n",
       "    .dataframe thead th {\n",
       "        text-align: right;\n",
       "    }\n",
       "</style>\n",
       "<table border=\"1\" class=\"dataframe\">\n",
       "  <thead>\n",
       "    <tr style=\"text-align: right;\">\n",
       "      <th></th>\n",
       "      <th>model</th>\n",
       "      <th>accuracy</th>\n",
       "      <th>precision</th>\n",
       "      <th>recall</th>\n",
       "      <th>f1</th>\n",
       "      <th>auc_roc</th>\n",
       "      <th>precision_recall</th>\n",
       "    </tr>\n",
       "    <tr>\n",
       "      <th>method</th>\n",
       "      <th></th>\n",
       "      <th></th>\n",
       "      <th></th>\n",
       "      <th></th>\n",
       "      <th></th>\n",
       "      <th></th>\n",
       "      <th></th>\n",
       "    </tr>\n",
       "  </thead>\n",
       "  <tbody>\n",
       "    <tr>\n",
       "      <th>oversampled</th>\n",
       "      <td>random_forest</td>\n",
       "      <td>0.999456</td>\n",
       "      <td>0.819048</td>\n",
       "      <td>0.877551</td>\n",
       "      <td>0.847291</td>\n",
       "      <td>0.974591</td>\n",
       "      <td>0.901898</td>\n",
       "    </tr>\n",
       "    <tr>\n",
       "      <th>original</th>\n",
       "      <td>random_forest</td>\n",
       "      <td>0.999649</td>\n",
       "      <td>0.943182</td>\n",
       "      <td>0.846939</td>\n",
       "      <td>0.892473</td>\n",
       "      <td>0.982209</td>\n",
       "      <td>0.878369</td>\n",
       "    </tr>\n",
       "    <tr>\n",
       "      <th>smote</th>\n",
       "      <td>random_forest</td>\n",
       "      <td>0.995102</td>\n",
       "      <td>0.245070</td>\n",
       "      <td>0.887755</td>\n",
       "      <td>0.384106</td>\n",
       "      <td>0.980270</td>\n",
       "      <td>0.870728</td>\n",
       "    </tr>\n",
       "    <tr>\n",
       "      <th>original</th>\n",
       "      <td>knn</td>\n",
       "      <td>0.999719</td>\n",
       "      <td>0.955556</td>\n",
       "      <td>0.877551</td>\n",
       "      <td>0.914894</td>\n",
       "      <td>0.943823</td>\n",
       "      <td>0.869280</td>\n",
       "    </tr>\n",
       "    <tr>\n",
       "      <th>tomek</th>\n",
       "      <td>random_forest</td>\n",
       "      <td>0.999719</td>\n",
       "      <td>0.976744</td>\n",
       "      <td>0.857143</td>\n",
       "      <td>0.913043</td>\n",
       "      <td>0.985224</td>\n",
       "      <td>0.868283</td>\n",
       "    </tr>\n",
       "    <tr>\n",
       "      <th>tomek</th>\n",
       "      <td>knn</td>\n",
       "      <td>0.999719</td>\n",
       "      <td>0.955556</td>\n",
       "      <td>0.877551</td>\n",
       "      <td>0.914894</td>\n",
       "      <td>0.943814</td>\n",
       "      <td>0.860707</td>\n",
       "    </tr>\n",
       "    <tr>\n",
       "      <th>tomek</th>\n",
       "      <td>log</td>\n",
       "      <td>0.999210</td>\n",
       "      <td>0.884058</td>\n",
       "      <td>0.622449</td>\n",
       "      <td>0.730539</td>\n",
       "      <td>0.980209</td>\n",
       "      <td>0.789589</td>\n",
       "    </tr>\n",
       "    <tr>\n",
       "      <th>oversampled</th>\n",
       "      <td>knn</td>\n",
       "      <td>0.999315</td>\n",
       "      <td>0.761062</td>\n",
       "      <td>0.877551</td>\n",
       "      <td>0.815166</td>\n",
       "      <td>0.943751</td>\n",
       "      <td>0.788728</td>\n",
       "    </tr>\n",
       "    <tr>\n",
       "      <th>original</th>\n",
       "      <td>log</td>\n",
       "      <td>0.999228</td>\n",
       "      <td>0.897059</td>\n",
       "      <td>0.622449</td>\n",
       "      <td>0.734940</td>\n",
       "      <td>0.979741</td>\n",
       "      <td>0.787980</td>\n",
       "    </tr>\n",
       "    <tr>\n",
       "      <th>smote</th>\n",
       "      <td>log</td>\n",
       "      <td>0.972824</td>\n",
       "      <td>0.055215</td>\n",
       "      <td>0.918367</td>\n",
       "      <td>0.104167</td>\n",
       "      <td>0.988772</td>\n",
       "      <td>0.770590</td>\n",
       "    </tr>\n",
       "    <tr>\n",
       "      <th>oversampled</th>\n",
       "      <td>log</td>\n",
       "      <td>0.975317</td>\n",
       "      <td>0.061074</td>\n",
       "      <td>0.928571</td>\n",
       "      <td>0.114610</td>\n",
       "      <td>0.987900</td>\n",
       "      <td>0.755177</td>\n",
       "    </tr>\n",
       "    <tr>\n",
       "      <th>undersampled</th>\n",
       "      <td>log</td>\n",
       "      <td>0.969910</td>\n",
       "      <td>0.050612</td>\n",
       "      <td>0.928571</td>\n",
       "      <td>0.095992</td>\n",
       "      <td>0.986542</td>\n",
       "      <td>0.737857</td>\n",
       "    </tr>\n",
       "    <tr>\n",
       "      <th>smote</th>\n",
       "      <td>knn</td>\n",
       "      <td>0.998648</td>\n",
       "      <td>0.569536</td>\n",
       "      <td>0.877551</td>\n",
       "      <td>0.690763</td>\n",
       "      <td>0.943501</td>\n",
       "      <td>0.635486</td>\n",
       "    </tr>\n",
       "    <tr>\n",
       "      <th>undersampled</th>\n",
       "      <td>random_forest</td>\n",
       "      <td>0.968066</td>\n",
       "      <td>0.047819</td>\n",
       "      <td>0.928571</td>\n",
       "      <td>0.090955</td>\n",
       "      <td>0.987546</td>\n",
       "      <td>0.577111</td>\n",
       "    </tr>\n",
       "    <tr>\n",
       "      <th>undersampled</th>\n",
       "      <td>knn</td>\n",
       "      <td>0.965486</td>\n",
       "      <td>0.044834</td>\n",
       "      <td>0.938776</td>\n",
       "      <td>0.085581</td>\n",
       "      <td>0.985332</td>\n",
       "      <td>0.161685</td>\n",
       "    </tr>\n",
       "  </tbody>\n",
       "</table>\n",
       "</div>"
      ],
      "text/plain": [
       "                      model  accuracy  precision    recall        f1  \\\n",
       "method                                                                 \n",
       "oversampled   random_forest  0.999456   0.819048  0.877551  0.847291   \n",
       "original      random_forest  0.999649   0.943182  0.846939  0.892473   \n",
       "smote         random_forest  0.995102   0.245070  0.887755  0.384106   \n",
       "original                knn  0.999719   0.955556  0.877551  0.914894   \n",
       "tomek         random_forest  0.999719   0.976744  0.857143  0.913043   \n",
       "tomek                   knn  0.999719   0.955556  0.877551  0.914894   \n",
       "tomek                   log  0.999210   0.884058  0.622449  0.730539   \n",
       "oversampled             knn  0.999315   0.761062  0.877551  0.815166   \n",
       "original                log  0.999228   0.897059  0.622449  0.734940   \n",
       "smote                   log  0.972824   0.055215  0.918367  0.104167   \n",
       "oversampled             log  0.975317   0.061074  0.928571  0.114610   \n",
       "undersampled            log  0.969910   0.050612  0.928571  0.095992   \n",
       "smote                   knn  0.998648   0.569536  0.877551  0.690763   \n",
       "undersampled  random_forest  0.968066   0.047819  0.928571  0.090955   \n",
       "undersampled            knn  0.965486   0.044834  0.938776  0.085581   \n",
       "\n",
       "               auc_roc  precision_recall  \n",
       "method                                    \n",
       "oversampled   0.974591          0.901898  \n",
       "original      0.982209          0.878369  \n",
       "smote         0.980270          0.870728  \n",
       "original      0.943823          0.869280  \n",
       "tomek         0.985224          0.868283  \n",
       "tomek         0.943814          0.860707  \n",
       "tomek         0.980209          0.789589  \n",
       "oversampled   0.943751          0.788728  \n",
       "original      0.979741          0.787980  \n",
       "smote         0.988772          0.770590  \n",
       "oversampled   0.987900          0.755177  \n",
       "undersampled  0.986542          0.737857  \n",
       "smote         0.943501          0.635486  \n",
       "undersampled  0.987546          0.577111  \n",
       "undersampled  0.985332          0.161685  "
      ]
     },
     "execution_count": 16,
     "metadata": {},
     "output_type": "execute_result"
    }
   ],
   "source": [
    "n_models = 3\n",
    "Metrics['method'] = ['original']*n_models + ['oversampled']*n_models + ['undersampled']*n_models + ['smote']*n_models + ['tomek']*n_models\n",
    "Metrics.set_index('method').sort_values(by='precision_recall', ascending=False)"
   ]
  },
  {
   "cell_type": "markdown",
   "metadata": {},
   "source": [
    "# Result discussion\n",
    "Final results showed that:\n",
    "- RandomForest model with original dataset (without applying any oversampling or undersampling technique) provided the best performance for proper detection of two classes of transactions.\n",
    "- Applying oversampling and undersampling methods, for classification problems with highly imbalanced samples, can adversely affect the model performance."
   ]
  },
  {
   "cell_type": "markdown",
   "metadata": {},
   "source": [
    "# Validation curve"
   ]
  },
  {
   "cell_type": "code",
   "execution_count": 18,
   "metadata": {},
   "outputs": [
    {
     "data": {
      "image/png": "[encoded data removed]",
      "text/plain": [
       "<Figure size 432x288 with 1 Axes>"
      ]
     },
     "metadata": {
      "needs_background": "light"
     },
     "output_type": "display_data"
    }
   ],
   "source": [
    "from sklearn.model_selection import validation_curve\n",
    "model = RandomForestClassifier(n_estimators=10, criterion='entropy', max_features='auto', n_jobs=-1, random_state=5)\n",
    "\n",
    "train_scores, valid_scores = validation_curve(model, \n",
    "                                             train_features, train_target, \n",
    "                                             param_name='max_depth',\n",
    "                                             param_range=list(range(2, 15, 1)), \n",
    "                                             scoring='average_precision', \n",
    "                                             cv=3, n_jobs=-1)\n",
    "\n",
    "plt.plot(list(range(2, 15, 1)), train_scores.mean(axis=1), label='training')\n",
    "plt.plot(list(range(2, 15, 1)), valid_scores.mean(axis=1), label='validation')\n",
    "plt.xlabel('max_depth')\n",
    "plt.ylabel('average_precision_score')\n",
    "plt.legend()\n",
    "plt.show()"
   ]
  },
  {
   "cell_type": "code",
   "execution_count": 19,
   "metadata": {},
   "outputs": [
    {
     "data": {
      "image/png": "[encoded data removed]",
      "text/plain": [
       "<Figure size 432x288 with 1 Axes>"
      ]
     },
     "metadata": {
      "needs_background": "light"
     },
     "output_type": "display_data"
    }
   ],
   "source": [
    "model = RandomForestClassifier(n_estimators=10, criterion='entropy', max_depth=5, n_jobs=-1, random_state=5)\n",
    "\n",
    "train_scores, valid_scores = validation_curve(model, \n",
    "                                             train_features, train_target, \n",
    "                                             param_name='max_features',\n",
    "                                             param_range=list(range(2, 30, 2)), \n",
    "                                             scoring='average_precision', \n",
    "                                             cv=3, n_jobs=-1)\n",
    "\n",
    "plt.plot(list(range(2, 30, 2)), train_scores.mean(axis=1), label='training')\n",
    "plt.plot(list(range(2, 30, 2)), valid_scores.mean(axis=1), label='validation')\n",
    "plt.xlabel('max_features')\n",
    "plt.ylabel('average_precision_score')\n",
    "plt.legend()\n",
    "plt.show()"
   ]
  },
  {
   "cell_type": "code",
   "execution_count": 20,
   "metadata": {},
   "outputs": [
    {
     "data": {
      "image/png": "[encoded data removed]",
      "text/plain": [
       "<Figure size 432x288 with 1 Axes>"
      ]
     },
     "metadata": {
      "needs_background": "light"
     },
     "output_type": "display_data"
    }
   ],
   "source": [
    "model = RandomForestClassifier(criterion='entropy', max_features=10, max_depth=5, n_jobs=-1, random_state=5)\n",
    "\n",
    "train_scores, valid_scores = validation_curve(model, \n",
    "                                             train_features, train_target, \n",
    "                                             param_name='n_estimators',\n",
    "                                             param_range=list(range(5, 100, 10)), \n",
    "                                             scoring='average_precision', \n",
    "                                             cv=3, n_jobs=-1)\n",
    "\n",
    "plt.plot(list(range(1, 100, 10)), train_scores.mean(axis=1), label='training')\n",
    "plt.plot(list(range(1, 100, 10)), valid_scores.mean(axis=1), label='validation')\n",
    "plt.xlabel('n_estimators')\n",
    "plt.ylabel('average_precision_score')\n",
    "plt.legend()\n",
    "plt.show()"
   ]
  },
  {
   "cell_type": "markdown",
   "metadata": {},
   "source": [
    "# Optimizing hyperparameters"
   ]
  },
  {
   "cell_type": "code",
   "execution_count": 22,
   "metadata": {},
   "outputs": [
    {
     "name": "stdout",
     "output_type": "stream",
     "text": [
      "0.8211413430107629\n",
      "{'n_estimators': 20, 'max_features': 10, 'max_depth': 8}\n"
     ]
    }
   ],
   "source": [
    "# random search over parameters\n",
    "from sklearn.model_selection import RandomizedSearchCV\n",
    "\n",
    "parameters = [{'n_estimators': np.arange(5, 30, 5),\n",
    "               'max_depth': np.arange(2, 10, 1),\n",
    "               'max_features': np.arange(2, 30, 2)}]\n",
    "\n",
    "final_model = RandomForestClassifier()\n",
    "\n",
    "grid_search = RandomizedSearchCV(estimator=final_model,\n",
    "                                param_distributions=parameters,\n",
    "                                n_iter=20,\n",
    "                                scoring='average_precision',\n",
    "                                n_jobs=-1,\n",
    "                                refit=True,\n",
    "                                cv=3,\n",
    "                                random_state=5)\n",
    "\n",
    "grid_search.fit(train_features, train_target.values.reshape(-1,))\n",
    "\n",
    "print(grid_search.best_score_)\n",
    "print(grid_search.best_params_)"
   ]
  },
  {
   "cell_type": "code",
   "execution_count": 23,
   "metadata": {},
   "outputs": [
    {
     "data": {
      "text/html": [
       "<div>\n",
       "<style scoped>\n",
       "    .dataframe tbody tr th:only-of-type {\n",
       "        vertical-align: middle;\n",
       "    }\n",
       "\n",
       "    .dataframe tbody tr th {\n",
       "        vertical-align: top;\n",
       "    }\n",
       "\n",
       "    .dataframe thead th {\n",
       "        text-align: right;\n",
       "    }\n",
       "</style>\n",
       "<table border=\"1\" class=\"dataframe\">\n",
       "  <thead>\n",
       "    <tr style=\"text-align: right;\">\n",
       "      <th></th>\n",
       "      <th>Importance</th>\n",
       "    </tr>\n",
       "    <tr>\n",
       "      <th>Feature</th>\n",
       "      <th></th>\n",
       "    </tr>\n",
       "  </thead>\n",
       "  <tbody>\n",
       "    <tr>\n",
       "      <th>V17</th>\n",
       "      <td>0.225747</td>\n",
       "    </tr>\n",
       "    <tr>\n",
       "      <th>V14</th>\n",
       "      <td>0.156335</td>\n",
       "    </tr>\n",
       "    <tr>\n",
       "      <th>V10</th>\n",
       "      <td>0.149935</td>\n",
       "    </tr>\n",
       "    <tr>\n",
       "      <th>V16</th>\n",
       "      <td>0.107048</td>\n",
       "    </tr>\n",
       "    <tr>\n",
       "      <th>V12</th>\n",
       "      <td>0.103247</td>\n",
       "    </tr>\n",
       "    <tr>\n",
       "      <th>V11</th>\n",
       "      <td>0.038130</td>\n",
       "    </tr>\n",
       "    <tr>\n",
       "      <th>V26</th>\n",
       "      <td>0.020726</td>\n",
       "    </tr>\n",
       "    <tr>\n",
       "      <th>V6</th>\n",
       "      <td>0.018722</td>\n",
       "    </tr>\n",
       "    <tr>\n",
       "      <th>V7</th>\n",
       "      <td>0.017118</td>\n",
       "    </tr>\n",
       "    <tr>\n",
       "      <th>V9</th>\n",
       "      <td>0.015988</td>\n",
       "    </tr>\n",
       "  </tbody>\n",
       "</table>\n",
       "</div>"
      ],
      "text/plain": [
       "         Importance\n",
       "Feature            \n",
       "V17        0.225747\n",
       "V14        0.156335\n",
       "V10        0.149935\n",
       "V16        0.107048\n",
       "V12        0.103247\n",
       "V11        0.038130\n",
       "V26        0.020726\n",
       "V6         0.018722\n",
       "V7         0.017118\n",
       "V9         0.015988"
      ]
     },
     "execution_count": 23,
     "metadata": {},
     "output_type": "execute_result"
    }
   ],
   "source": [
    "feature_importances = grid_search.best_estimator_.feature_importances_ \n",
    "features = data.drop(columns='Class').columns\n",
    "feature_importances = pd.DataFrame({'Feature':features, 'Importance':feature_importances})\n",
    "feature_importances.sort_values(by='Importance', ascending=False, inplace=True)\n",
    "feature_importances.set_index('Feature', inplace=True, drop=True)\n",
    "feature_importances.head(10)"
   ]
  },
  {
   "cell_type": "markdown",
   "metadata": {},
   "source": [
    "# Learning curve"
   ]
  },
  {
   "cell_type": "code",
   "execution_count": 30,
   "metadata": {},
   "outputs": [
    {
     "data": {
      "image/png": "[encoded data removed]",
      "text/plain": [
       "<Figure size 432x288 with 1 Axes>"
      ]
     },
     "metadata": {
      "needs_background": "light"
     },
     "output_type": "display_data"
    }
   ],
   "source": [
    "from sklearn.model_selection import learning_curve\n",
    "model = RandomForestClassifier(n_estimators=20, criterion='entropy', max_features=10, max_depth=8, n_jobs=-1, random_state=5)\n",
    "\n",
    "train_sizes, train_scores, valid_scores = learning_curve(model, \n",
    "                                                         train_features, train_target, \n",
    "                                                         train_sizes=np.linspace(0.1, 1, num=10), \n",
    "                                                         scoring='average_precision', \n",
    "                                                         cv=3, n_jobs=-1)\n",
    "\n",
    "plt.plot(train_sizes, train_scores.mean(axis=1), label='training')\n",
    "plt.plot(train_sizes, valid_scores.mean(axis=1), label='validation')\n",
    "plt.xlabel('train_size')\n",
    "plt.ylabel('average_precision_score')\n",
    "plt.legend()\n",
    "plt.show()"
   ]
  },
  {
   "cell_type": "code",
   "execution_count": 29,
   "metadata": {},
   "outputs": [
    {
     "data": {
      "image/png": "[encoded data removed]",
      "text/plain": [
       "<Figure size 432x288 with 1 Axes>"
      ]
     },
     "metadata": {
      "needs_background": "light"
     },
     "output_type": "display_data"
    }
   ],
   "source": [
    "model = RandomForestClassifier(n_estimators=10, criterion='entropy', max_features=10, max_depth=4, n_jobs=-1, random_state=5)\n",
    "\n",
    "train_sizes, train_scores, valid_scores = learning_curve(model, \n",
    "                                                         train_features, train_target, \n",
    "                                                         train_sizes=np.linspace(0.1, 1, num=10), \n",
    "                                                         scoring='average_precision', \n",
    "                                                         cv=3, n_jobs=-1)\n",
    "\n",
    "plt.plot(train_sizes, train_scores.mean(axis=1), label='training')\n",
    "plt.plot(train_sizes, valid_scores.mean(axis=1), label='validation')\n",
    "plt.xlabel('train_size')\n",
    "plt.ylabel('average_precision_score')\n",
    "plt.legend()\n",
    "plt.show()"
   ]
  },
  {
   "cell_type": "markdown",
   "metadata": {},
   "source": [
    "# Using a subset of important features"
   ]
  },
  {
   "cell_type": "code",
   "execution_count": 32,
   "metadata": {},
   "outputs": [
    {
     "data": {
      "image/png": "[encoded data removed]",
      "text/plain": [
       "<Figure size 432x288 with 1 Axes>"
      ]
     },
     "metadata": {
      "needs_background": "light"
     },
     "output_type": "display_data"
    }
   ],
   "source": [
    "from sklearn.metrics import average_precision_score\n",
    "\n",
    "scores = {}\n",
    "for i in range(2, 30):\n",
    "    best_features = feature_importances.index[:i]\n",
    "    x_train = train_set[best_features].values\n",
    "    x_test = test_set[best_features].values\n",
    "\n",
    "    model = RandomForestClassifier(n_estimators=10, criterion='entropy', max_features=min(i, 10), max_depth=4,\n",
    "                                   n_jobs=-1, random_state=5)\n",
    "    model.fit(x_train, train_target.values.reshape(-1,))\n",
    "    \n",
    "    pred_train = model.predict(x_train)\n",
    "    pred_test = model.predict(x_test)\n",
    "    predproba_train = model.predict_proba(x_train)\n",
    "    predproba_test = model.predict_proba(x_test)\n",
    "    train_score = average_precision_score(train_target, predproba_train[:, 1])\n",
    "    test_score = average_precision_score(test_target, predproba_test[:, 1])\n",
    "    scores[i] = [train_score, test_score]\n",
    "    \n",
    "pd.DataFrame.from_dict(scores, orient='index', columns=['train', 'test']).plot()\n",
    "plt.xlabel('num_features')\n",
    "plt.ylabel('average_precision_score')\n",
    "plt.legend()\n",
    "plt.show()"
   ]
  },
  {
   "cell_type": "markdown",
   "metadata": {},
   "source": [
    "# Dimensionality reduction"
   ]
  },
  {
   "cell_type": "code",
   "execution_count": 34,
   "metadata": {},
   "outputs": [
    {
     "data": {
      "image/png": "[encoded data removed]",
      "text/plain": [
       "<Figure size 432x288 with 1 Axes>"
      ]
     },
     "metadata": {
      "needs_background": "light"
     },
     "output_type": "display_data"
    }
   ],
   "source": [
    "from sklearn.decomposition import PCA\n",
    "scores = {}\n",
    "for i in range(4, 30):\n",
    "    pca = PCA(n_components=i)\n",
    "    x_train = pca.fit_transform(train_features)\n",
    "    x_test = pca.transform(test_features)\n",
    "\n",
    "    model = RandomForestClassifier(n_estimators=10, criterion='entropy', max_features=min(i, 10), max_depth=4,\n",
    "                                   n_jobs=-1, random_state=5)\n",
    "    model.fit(x_train, train_target.values.reshape(-1,))\n",
    "    \n",
    "    pred_train = model.predict(x_train)\n",
    "    pred_test = model.predict(x_test)\n",
    "    predproba_train = model.predict_proba(x_train)\n",
    "    predproba_test = model.predict_proba(x_test)\n",
    "    train_score = average_precision_score(train_target, predproba_train[:, 1])\n",
    "    test_score = average_precision_score(test_target, predproba_test[:, 1])\n",
    "    scores[i] = [train_score, test_score]\n",
    "    \n",
    "pd.DataFrame.from_dict(scores, orient='index', columns=['train', 'test']).plot()\n",
    "plt.xlabel('num_pca_components')\n",
    "plt.ylabel('average_precision_score')\n",
    "plt.legend()\n",
    "plt.show()"
   ]
  },
  {
   "cell_type": "markdown",
   "metadata": {},
   "source": [
    "# Model validation"
   ]
  },
  {
   "cell_type": "code",
   "execution_count": 35,
   "metadata": {},
   "outputs": [
    {
     "name": "stdout",
     "output_type": "stream",
     "text": [
      "mean score: 0.821 \n",
      "std score: 0.058\n"
     ]
    }
   ],
   "source": [
    "# k-fold cross validation\n",
    "from sklearn.model_selection import cross_val_score\n",
    "from sklearn.model_selection import StratifiedKFold as skf\n",
    "\n",
    "best_model = RandomForestClassifier(n_estimators=10, criterion='entropy', max_depth=4, \n",
    "                                    max_features=10, n_jobs=-1, random_state=5)\n",
    "\n",
    "scores = cross_val_score(estimator=best_model,\n",
    "                        scoring='average_precision',\n",
    "                        X=train_features, \n",
    "                        y=train_target.values.reshape(-1,),\n",
    "                        cv=skf(n_splits=10))\n",
    "\n",
    "print('mean score: %0.3f \\nstd score: %0.3f' %(scores.mean(), scores.std()))"
   ]
  },
  {
   "cell_type": "markdown",
   "metadata": {},
   "source": [
    "# Fitting the best model on the whole training set"
   ]
  },
  {
   "cell_type": "code",
   "execution_count": 47,
   "metadata": {},
   "outputs": [],
   "source": [
    "best_model = RandomForestClassifier(n_estimators=10, criterion='entropy', max_depth=4, \n",
    "                                    max_features=10, n_jobs=-1, random_state=5)\n",
    "\n",
    "best_model.fit(train_features, train_target.values.reshape(-1,))\n",
    "y_pred = best_model.predict(test_features)\n",
    "y_predproba = best_model.predict_proba(test_features)"
   ]
  },
  {
   "cell_type": "markdown",
   "metadata": {},
   "source": [
    "# Evaluating the best model on test set"
   ]
  },
  {
   "cell_type": "code",
   "execution_count": 48,
   "metadata": {},
   "outputs": [],
   "source": [
    "from sklearn.metrics import classification_report, plot_confusion_matrix, plot_precision_recall_curve, plot_roc_curve"
   ]
  },
  {
   "cell_type": "code",
   "execution_count": 49,
   "metadata": {},
   "outputs": [
    {
     "name": "stdout",
     "output_type": "stream",
     "text": [
      "              precision    recall  f1-score   support\n",
      "\n",
      "           0       1.00      1.00      1.00     56864\n",
      "           1       0.89      0.82      0.85        98\n",
      "\n",
      "    accuracy                           1.00     56962\n",
      "   macro avg       0.94      0.91      0.93     56962\n",
      "weighted avg       1.00      1.00      1.00     56962\n",
      "\n"
     ]
    }
   ],
   "source": [
    "print(classification_report(test_target, y_pred))"
   ]
  },
  {
   "cell_type": "code",
   "execution_count": 50,
   "metadata": {},
   "outputs": [
    {
     "data": {
      "text/plain": [
       "<sklearn.metrics._plot.confusion_matrix.ConfusionMatrixDisplay at 0x1a586b62a88>"
      ]
     },
     "execution_count": 50,
     "metadata": {},
     "output_type": "execute_result"
    },
    {
     "data": {
      "image/png": "[encoded data removed]",
      "text/plain": [
       "<Figure size 432x288 with 2 Axes>"
      ]
     },
     "metadata": {
      "needs_background": "light"
     },
     "output_type": "display_data"
    }
   ],
   "source": [
    "plot_confusion_matrix(best_model, test_features, test_target)"
   ]
  },
  {
   "cell_type": "code",
   "execution_count": 51,
   "metadata": {},
   "outputs": [
    {
     "data": {
      "text/plain": [
       "<sklearn.metrics._plot.precision_recall_curve.PrecisionRecallDisplay at 0x1a586fe9408>"
      ]
     },
     "execution_count": 51,
     "metadata": {},
     "output_type": "execute_result"
    },
    {
     "data": {
      "image/png": "[encoded data removed]",
      "text/plain": [
       "<Figure size 432x288 with 1 Axes>"
      ]
     },
     "metadata": {
      "needs_background": "light"
     },
     "output_type": "display_data"
    }
   ],
   "source": [
    "plot_precision_recall_curve(best_model, test_features, test_target)"
   ]
  }
 ],
 "metadata": {
  "kernelspec": {
   "display_name": "Python 3",
   "language": "python",
   "name": "python3"
  },
  "language_info": {
   "codemirror_mode": {
    "name": "ipython",
    "version": 3
   },
   "file_extension": ".py",
   "mimetype": "text/x-python",
   "name": "python",
   "nbconvert_exporter": "python",
   "pygments_lexer": "ipython3",
   "version": "3.7.6"
  }
 },
 "nbformat": 4,
 "nbformat_minor": 2
}
